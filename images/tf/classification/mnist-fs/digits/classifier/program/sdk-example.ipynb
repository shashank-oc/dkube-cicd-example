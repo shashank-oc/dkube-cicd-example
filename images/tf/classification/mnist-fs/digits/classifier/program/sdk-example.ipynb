{
 "cells": [
  {
   "cell_type": "markdown",
   "metadata": {},
   "source": [
    "## Installing DKube SDK"
   ]
  },
  {
   "cell_type": "code",
   "execution_count": null,
   "metadata": {},
   "outputs": [
    {
     "name": "stdout",
     "output_type": "stream",
     "text": [
      "Collecting git+https://github.com/oneconvergence/dkube.git@2.2-dev\n",
      "  Cloning https://github.com/oneconvergence/dkube.git (to revision 2.2-dev) to /tmp/pip-req-build-w056c1qt\n",
      "  Running command git clone -q https://github.com/oneconvergence/dkube.git /tmp/pip-req-build-w056c1qt\n",
      "  Running command git checkout -b 2.2-dev --track origin/2.2-dev\n",
      "  Switched to a new branch '2.2-dev'\n",
      "  Branch '2.2-dev' set up to track remote branch '2.2-dev' from 'origin'.\n",
      "Requirement already satisfied, skipping upgrade: validators in /usr/local/lib/python3.6/dist-packages (from dkube==2.1.5) (0.18.1)\n",
      "Requirement already satisfied, skipping upgrade: minio in /usr/local/lib/python3.6/dist-packages (from dkube==2.1.5) (6.0.2)\n",
      "Requirement already satisfied, skipping upgrade: requests in /usr/local/lib/python3.6/dist-packages (from dkube==2.1.5) (2.25.0)\n",
      "Requirement already satisfied, skipping upgrade: certifi>=14.05.14 in /usr/local/lib/python3.6/dist-packages (from dkube==2.1.5) (2020.11.8)\n",
      "Requirement already satisfied, skipping upgrade: six>=1.10 in /usr/local/lib/python3.6/dist-packages (from dkube==2.1.5) (1.15.0)\n",
      "Requirement already satisfied, skipping upgrade: python_dateutil>=2.5.3 in /usr/local/lib/python3.6/dist-packages (from dkube==2.1.5) (2.8.0)\n",
      "Requirement already satisfied, skipping upgrade: setuptools>=21.0.0 in /usr/local/lib/python3.6/dist-packages (from dkube==2.1.5) (41.0.1)\n",
      "Requirement already satisfied, skipping upgrade: urllib3>=1.15.1 in /usr/local/lib/python3.6/dist-packages (from dkube==2.1.5) (1.26.2)\n",
      "Requirement already satisfied, skipping upgrade: url_normalize in /usr/local/lib/python3.6/dist-packages (from dkube==2.1.5) (1.4.3)\n",
      "Requirement already satisfied, skipping upgrade: pyarrow in /usr/local/lib/python3.6/dist-packages (from dkube==2.1.5) (2.0.0)\n",
      "Requirement already satisfied, skipping upgrade: pandas>=1.1.4 in /usr/local/lib/python3.6/dist-packages (from dkube==2.1.5) (1.1.4)\n",
      "Requirement already satisfied, skipping upgrade: decorator>=3.4.0 in /usr/local/lib/python3.6/dist-packages (from validators->dkube==2.1.5) (4.4.0)\n",
      "Requirement already satisfied, skipping upgrade: pytz in /usr/local/lib/python3.6/dist-packages (from minio->dkube==2.1.5) (2020.4)\n",
      "Requirement already satisfied, skipping upgrade: configparser in /usr/local/lib/python3.6/dist-packages (from minio->dkube==2.1.5) (5.0.1)\n",
      "Requirement already satisfied, skipping upgrade: chardet<4,>=3.0.2 in /usr/local/lib/python3.6/dist-packages (from requests->dkube==2.1.5) (3.0.4)\n",
      "Requirement already satisfied, skipping upgrade: idna<3,>=2.5 in /usr/lib/python3/dist-packages (from requests->dkube==2.1.5) (2.6)\n",
      "Requirement already satisfied, skipping upgrade: numpy>=1.14 in /usr/local/lib/python3.6/dist-packages (from pyarrow->dkube==2.1.5) (1.19.4)\n",
      "Building wheels for collected packages: dkube\n",
      "  Building wheel for dkube (setup.py) ... \u001b[?25ldone\n",
      "\u001b[?25h  Stored in directory: /tmp/pip-ephem-wheel-cache-k764ysc6/wheels/2a/4b/84/14bfd7a4e7b1f305a75a29b13eccb45c94deb415823d831405\n",
      "Successfully built dkube\n",
      "Installing collected packages: dkube\n",
      "Successfully installed dkube-2.1.5\n",
      "\u001b[33mWARNING: You are using pip version 19.1.1, however version 20.3 is available.\n",
      "You should consider upgrading via the 'pip install --upgrade pip' command.\u001b[0m\n"
     ]
    }
   ],
   "source": [
    "! pip3 install git+https://github.com/oneconvergence/dkube.git@2.2-dev --upgrade --user\n",
    "import os\n",
    "os._exit(00)"
   ]
  },
  {
   "cell_type": "code",
   "execution_count": 1,
   "metadata": {},
   "outputs": [
    {
     "name": "stdout",
     "output_type": "stream",
     "text": [
      "             Open    High     Low   Close   Volume\n",
      "Date                                              \n",
      "26-Feb-16  708.58  713.43  700.86  705.07  2239978\n",
      "25-Feb-16  700.01  705.98  690.58  705.75  1631855\n",
      "24-Feb-16  688.92  700.00  680.78  699.56  1958611\n",
      "23-Feb-16  701.45  708.40  693.58  695.85  1999699\n",
      "22-Feb-16  707.45  713.24  702.51  706.46  1946067\n"
     ]
    }
   ],
   "source": [
    "import pandas as pd\n",
    "import yaml\n",
    "url = 'https://raw.githubusercontent.com/oneconvergence/dkube-examples/master/sklearn/stock-pred/dataset/goog.csv'\n",
    "df = pd.read_csv(url, index_col=0)\n",
    "print(df.head(5))"
   ]
  },
  {
   "cell_type": "code",
   "execution_count": 2,
   "metadata": {},
   "outputs": [],
   "source": [
    "keys   = df.keys()\n",
    "schema = df.dtypes.to_list()\n",
    "featureset_metadata = []\n",
    "for i in range(len(keys)):\n",
    "    metadata = {}\n",
    "    metadata[\"name\"] = str(keys[i])\n",
    "    metadata[\"description\"] = None\n",
    "    metadata[\"schema\"] = str(schema[i])\n",
    "    featureset_metadata.append(metadata)\n",
    "featureset_metadata = yaml.dump(featureset_metadata, default_flow_style=False)"
   ]
  },
  {
   "cell_type": "code",
   "execution_count": 3,
   "metadata": {},
   "outputs": [
    {
     "name": "stdout",
     "output_type": "stream",
     "text": [
      "- description: null\n",
      "  name: Open\n",
      "  schema: float64\n",
      "- description: null\n",
      "  name: High\n",
      "  schema: float64\n",
      "- description: null\n",
      "  name: Low\n",
      "  schema: float64\n",
      "- description: null\n",
      "  name: Close\n",
      "  schema: float64\n",
      "- description: null\n",
      "  name: Volume\n",
      "  schema: int64\n",
      "\n"
     ]
    }
   ],
   "source": [
    "print(featureset_metadata)"
   ]
  },
  {
   "cell_type": "code",
   "execution_count": 4,
   "metadata": {},
   "outputs": [
    {
     "data": {
      "text/plain": [
       "255"
      ]
     },
     "execution_count": 4,
     "metadata": {},
     "output_type": "execute_result"
    }
   ],
   "source": [
    "spec_path = \"spec1.yaml\"\n",
    "open(spec_path, \"w\").write(featureset_metadata)"
   ]
  },
  {
   "cell_type": "code",
   "execution_count": 5,
   "metadata": {},
   "outputs": [],
   "source": [
    "from dkube.sdk import *"
   ]
  },
  {
   "cell_type": "code",
   "execution_count": 6,
   "metadata": {},
   "outputs": [],
   "source": [
    "url = \"https://35.223.42.170:32222/\"\n",
    "user = os.getenv('USERNAME')\n",
    "authToken = os.getenv('DKUBE_USER_ACCESS_TOKEN')\n",
    "api = DkubeApi(URL = url, token=authToken)"
   ]
  },
  {
   "cell_type": "code",
   "execution_count": 7,
   "metadata": {},
   "outputs": [
    {
     "name": "stderr",
     "output_type": "stream",
     "text": [
      "/usr/local/lib/python3.6/dist-packages/urllib3/connectionpool.py:1020: InsecureRequestWarning: Unverified HTTPS request is being made to host '35.223.42.170'. Adding certificate verification is strongly advised. See: https://urllib3.readthedocs.io/en/latest/advanced-usage.html#ssl-warnings\n",
      "  InsecureRequestWarning,\n"
     ]
    },
    {
     "data": {
      "text/plain": [
       "{'code': 200, 'message': 'Successfully created featureSet', 'uuid': None}"
      ]
     },
     "execution_count": 7,
     "metadata": {},
     "output_type": "execute_result"
    }
   ],
   "source": [
    "featureset_name = generate('stock-values-fs')\n",
    "featureset = DkubeFeatureSet(name=featureset_name, description=\"Stock values\", tags=[\n",
    "                                 \"stock:values\"])\n",
    "#featureset.update_featurespec_file(spec_path)\n",
    "api.create_featureset(featureset)"
   ]
  },
  {
   "cell_type": "code",
   "execution_count": 8,
   "metadata": {},
   "outputs": [
    {
     "name": "stderr",
     "output_type": "stream",
     "text": [
      "/usr/local/lib/python3.6/dist-packages/urllib3/connectionpool.py:1020: InsecureRequestWarning: Unverified HTTPS request is being made to host '35.223.42.170'. Adding certificate verification is strongly advised. See: https://urllib3.readthedocs.io/en/latest/advanced-usage.html#ssl-warnings\n",
      "  InsecureRequestWarning,\n"
     ]
    },
    {
     "data": {
      "text/plain": [
       "{'data': [{'featureset': {'created_ts': '2020-12-03 11:20:46',\n",
       "                          'description': 'Stock values',\n",
       "                          'job': None,\n",
       "                          'name': 'stock-values-fs-5591',\n",
       "                          'owner': None,\n",
       "                          'status': 'Created',\n",
       "                          'tags': ['stock:values'],\n",
       "                          'updated_ts': '2020-12-03 11:20:46',\n",
       "                          'uuid': '143a39cb-b7aa-4d2c-b7e5-539a3820d56a'},\n",
       "           'versions': None},\n",
       "          {'featureset': {'created_ts': '2020-12-03 08:32:13',\n",
       "                          'description': None,\n",
       "                          'job': None,\n",
       "                          'name': 'mnist-fs',\n",
       "                          'owner': 'ocdkube',\n",
       "                          'status': 'Ready',\n",
       "                          'tags': None,\n",
       "                          'updated_ts': '2020-12-03 10:59:47',\n",
       "                          'uuid': '195831d4-63a5-489c-a562-28ad1067de72'},\n",
       "           'versions': None},\n",
       "          {'featureset': {'created_ts': '2020-12-03 11:23:15',\n",
       "                          'description': 'Stock values',\n",
       "                          'job': None,\n",
       "                          'name': 'stock-values-fs-9218',\n",
       "                          'owner': 'ocdkube',\n",
       "                          'status': 'Created',\n",
       "                          'tags': ['stock:values'],\n",
       "                          'updated_ts': '2020-12-03 11:23:15',\n",
       "                          'uuid': '1ad3f245-21ed-45be-bac4-b8fa0b00e870'},\n",
       "           'versions': None},\n",
       "          {'featureset': {'created_ts': '2020-12-03 11:21:04',\n",
       "                          'description': 'Stock values',\n",
       "                          'job': None,\n",
       "                          'name': 'stock-values-fs-3915',\n",
       "                          'owner': 'ocdkube',\n",
       "                          'status': 'Created',\n",
       "                          'tags': ['stock:values'],\n",
       "                          'updated_ts': '2020-12-03 11:21:04',\n",
       "                          'uuid': '1de093f2-61c0-4ab4-9ce4-a98b31eb04bc'},\n",
       "           'versions': None},\n",
       "          {'featureset': {'created_ts': '2020-12-03 11:26:06',\n",
       "                          'description': 'Stock values',\n",
       "                          'job': None,\n",
       "                          'name': 'stock-values-fs-9538',\n",
       "                          'owner': 'ocdkube',\n",
       "                          'status': 'Created',\n",
       "                          'tags': ['stock:values'],\n",
       "                          'updated_ts': '2020-12-03 11:26:06',\n",
       "                          'uuid': '5f4ddade-9f3c-409f-bd0d-9e321ab271e8'},\n",
       "           'versions': None},\n",
       "          {'featureset': {'created_ts': '2020-12-03 09:09:00',\n",
       "                          'description': None,\n",
       "                          'job': None,\n",
       "                          'name': 'test',\n",
       "                          'owner': 'ocdkube',\n",
       "                          'status': 'Created',\n",
       "                          'tags': None,\n",
       "                          'updated_ts': '2020-12-03 09:09:00',\n",
       "                          'uuid': '7f6adc97-9d0a-4dd5-8bf9-d1a1c1636712'},\n",
       "           'versions': None},\n",
       "          {'featureset': {'created_ts': '2020-12-03 11:28:34',\n",
       "                          'description': 'Stock values',\n",
       "                          'job': None,\n",
       "                          'name': 'stock-values-fs-5764',\n",
       "                          'owner': 'ocdkube',\n",
       "                          'status': 'Created',\n",
       "                          'tags': ['stock:values'],\n",
       "                          'updated_ts': '2020-12-03 11:28:34',\n",
       "                          'uuid': 'db0c266a-2956-49b1-b150-929baa1d3d70'},\n",
       "           'versions': None}],\n",
       " 'response': {'code': 200, 'message': 'Featureset list Success', 'uuid': None}}"
      ]
     },
     "execution_count": 8,
     "metadata": {},
     "output_type": "execute_result"
    }
   ],
   "source": [
    "api.list_featuresets()"
   ]
  },
  {
   "cell_type": "code",
   "execution_count": 9,
   "metadata": {},
   "outputs": [],
   "source": [
    "# inp_path = \"/opt/dkube/input\"\n",
    "# featureset = DkubeFeatureSet()\n",
    "# featureset.update_features_path(path=inp_path)\n",
    "# data  = featureset.read()"
   ]
  },
  {
   "cell_type": "code",
   "execution_count": 10,
   "metadata": {},
   "outputs": [],
   "source": [
    "# data['data'].head()"
   ]
  }
 ],
 "metadata": {
  "kernelspec": {
   "display_name": "Python 3",
   "language": "python",
   "name": "python3"
  },
  "language_info": {
   "codemirror_mode": {
    "name": "ipython",
    "version": 3
   },
   "file_extension": ".py",
   "mimetype": "text/x-python",
   "name": "python",
   "nbconvert_exporter": "python",
   "pygments_lexer": "ipython3",
   "version": "3.6.8"
  }
 },
 "nbformat": 4,
 "nbformat_minor": 4
}
