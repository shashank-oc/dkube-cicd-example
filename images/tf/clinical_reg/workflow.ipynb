{
 "cells": [
  {
   "cell_type": "code",
   "execution_count": 1,
   "metadata": {},
   "outputs": [],
   "source": [
    "import warnings, os\n",
    "warnings.filterwarnings(\"ignore\")\n",
    "os.environ['TF_CPP_MIN_LOG_LEVEL'] = '3'"
   ]
  },
  {
   "cell_type": "code",
   "execution_count": 2,
   "metadata": {},
   "outputs": [],
   "source": [
    "import pandas as pd\n",
    "from sklearn.model_selection import train_test_split\n",
    "from sklearn import preprocessing\n",
    "import numpy as np\n",
    "import shutil\n",
    "import tensorflow as tf\n",
    "import tensorflow.keras as k\n",
    "from tensorflow.keras.callbacks import ModelCheckpoint, ReduceLROnPlateau, TensorBoard, LambdaCallback\n",
    "from tensorflow.keras import optimizers\n",
    "from tensorflow.keras import backend as K\n",
    "from tensorflow.keras.models import load_model\n",
    "from tensorflow.python.saved_model import builder as saved_model_builder\n",
    "from tensorflow.python.saved_model.signature_def_utils import predict_signature_def\n",
    "from tensorflow.python.saved_model import tag_constants\n",
    "import pydicom\n",
    "from tensorflow.keras import regularizers\n",
    "from sklearn.metrics import mean_absolute_error\n",
    "import seaborn as sns\n",
    "import cv2"
   ]
  },
  {
   "cell_type": "markdown",
   "metadata": {},
   "source": [
    "# Support Functions"
   ]
  },
  {
   "cell_type": "code",
   "execution_count": 3,
   "metadata": {},
   "outputs": [],
   "source": [
    "def continious_to_categorical(data):\n",
    "    median = data.median()\n",
    "    low = data.min()\n",
    "    high = data.max()\n",
    "    lmedian = (low+median)/2\n",
    "    rmedian = (high+median)/2\n",
    "    temp = []\n",
    "    for v in data:\n",
    "        if v < (lmedian+median)/2:\n",
    "            temp.append(1)\n",
    "        elif v > (rmedian+median)/2:\n",
    "            temp.append(2)\n",
    "        else:\n",
    "            temp.append(3)\n",
    "    return pd.Series(temp)\n",
    "\n",
    "def read_file(filename):\n",
    "    data = pd.read_csv(filename,encoding = \"ISO-8859-1\")\n",
    "    return data\n",
    "def split_csv(data, s_ratio, case, seed_val=42):\n",
    "    chunks = []\n",
    "    np.random.seed(seed_val)\n",
    "    seeds = np.random.randint(1,45,3)\n",
    "    i = 0\n",
    "    if case == 1:\n",
    "        for cr in s_ratio[:-1]:\n",
    "            data, d = train_test_split(data, test_size=cr, random_state = seeds[i])\n",
    "            chunks.append(d)\n",
    "            i += 1\n",
    "        chunks.append(data)\n",
    "        return chunks, seeds\n",
    "    elif case == 2:\n",
    "        for cr in s_ratio:\n",
    "            data, d = train_test_split(data, test_size=cr, random_state = seeds[i])\n",
    "            chunks.append(d)\n",
    "            i += 1\n",
    "        return chunks, seeds\n",
    "    elif case == 3:\n",
    "        for cr in s_ratio:\n",
    "            _ , d = train_test_split(data, test_size=cr, random_state = seeds[i])\n",
    "            chunks.append(d)\n",
    "            i += 1\n",
    "        return chunks, seeds\n",
    "\n",
    "\n",
    "def normalize_ratio(ratio, n_samples):\n",
    "    if len(ratio) != 3:\n",
    "        print(\"error: Ratio has less/more than three numbers\")\n",
    "        exit(1)\n",
    "    if sum(ratio) <= 100:\n",
    "        #ratio.reverse()\n",
    "        c_sizes = [(r/100)*n_samples for r in ratio]\n",
    "        norm = []\n",
    "        items_left = n_samples\n",
    "        for cs in c_sizes:\n",
    "            cr = cs / items_left\n",
    "            norm.append(cr)\n",
    "            items_left -= cs\n",
    "        if sum(ratio) == 100:\n",
    "            case = 1\n",
    "        else:\n",
    "            case = 2\n",
    "        return norm, case\n",
    "    elif sum(ratio) > 100:\n",
    "        case = 3\n",
    "        norm = [r/100 for r in ratio]\n",
    "        return norm, case\n",
    "    else:\n",
    "        print(\"Ratio is not correct\")\n",
    "        exit(1)\n",
    "\n",
    "def split_imgs(seed, files, case):\n",
    "    chunks = []\n",
    "    np.random.seed(seed)\n",
    "    seeds = np.random.randint(1,45,3)\n",
    "    i = 0\n",
    "    if case == 1:\n",
    "        for cr in s_ratio[:-1]:\n",
    "            files, d = train_test_split(files, test_size=cr, random_state = seeds[i])\n",
    "            chunks.append(d)\n",
    "            i += 1\n",
    "        chunks.append(files)\n",
    "        return chunks\n",
    "    elif case == 2:\n",
    "        for cr in s_ratio:\n",
    "            files, d = train_test_split(files, test_size=cr, random_state = seeds[i])\n",
    "            chunks.append(d)\n",
    "            i += 1\n",
    "        return chunks\n",
    "    elif case == 3:\n",
    "        for cr in s_ratio:\n",
    "            _ , d = train_test_split(files, test_size=cr, random_state = seeds[i])\n",
    "            chunks.append(d)\n",
    "            i += 1\n",
    "        return chunks\n",
    "\n",
    "def save_csv_chunks(chunks, filename, outputdir, filetype):\n",
    "    fname = os.path.splitext(filename)[0]\n",
    "    fname = fname.split('/')[-1]\n",
    "    ext = os.path.splitext(filename)[1]\n",
    "    if not os.path.exists(outputdir[0] + filetype):\n",
    "        os.makedirs(outputdir[0] + filetype)\n",
    "    chunks[0].to_csv(outputdir[0] + filetype + '/' + fname + '_' + 'train' + ext, index = 0)\n",
    "    if not os.path.exists(outputdir[1] + filetype):\n",
    "        os.makedirs(outputdir[1] + filetype)\n",
    "    chunks[1].to_csv(outputdir[1] + filetype + '/'  + fname + '_' + 'val' + ext, index = 0)\n",
    "    if not os.path.exists(outputdir[2] + filetype):\n",
    "        os.makedirs(outputdir[2] + filetype)\n",
    "    chunks[2].to_csv(outputdir[2] + filetype + '/'  + fname + '_' + 'test' + ext, index = 0)\n",
    "\n",
    "def save_imgs(img_chunks, imgfolder, outputdir, filetype):\n",
    "    if not os.path.exists(outputdir[0] + filetype):\n",
    "        os.makedirs(outputdir[0] + filetype)\n",
    "    for f in img_chunks[0]:\n",
    "        shutil.copyfile(imgfolder + f, outputdir[0] + filetype + '/' + f)\n",
    "        \n",
    "    if not os.path.exists(outputdir[1] + filetype):\n",
    "        os.makedirs(outputdir[1] + filetype)\n",
    "    for f in img_chunks[1]:\n",
    "        shutil.copyfile(imgfolder + f , outputdir[1] + filetype + '/' + f)\n",
    "#         print(outputdir[1] + filetype + f)\n",
    "        \n",
    "    if not os.path.exists(outputdir[2] + filetype):\n",
    "        os.makedirs(outputdir[2] + filetype)\n",
    "    for f in img_chunks[2]:\n",
    "        shutil.copyfile(imgfolder + f, outputdir[2] + filetype + '/' + f)\n",
    "        \n",
    "def build_cnn_block(img_input_shape, penalty):\n",
    "    cnn_input = k.layers.Input(shape=img_input_shape, name='img_input')\n",
    "    cnn_block = k.layers.Conv2D(32, kernel_size=(3, 3), activation='relu', kernel_regularizer=regularizers.l2(penalty),\n",
    "                activity_regularizer=regularizers.l1(penalty))(cnn_input)\n",
    "    cnn_block = k.layers.MaxPooling2D(pool_size=(2, 2))(cnn_block)\n",
    "    cnn_block = k.layers.Dropout(0.25)(cnn_block)\n",
    "    cnn_block = k.layers.Flatten()(cnn_block)\n",
    "    cnn_block = k.layers.Dense(32, activation='relu', kernel_regularizer=regularizers.l2(penalty),\n",
    "                activity_regularizer=regularizers.l1(penalty))(cnn_block)\n",
    "    return cnn_block, cnn_input\n",
    "\n",
    "def build_dense_block(csv_input_shape, penalty):\n",
    "    csv_input = k.layers.Input(shape=csv_input_shape, name='csv_input')\n",
    "    dense_block = k.layers.Dense(32,activation='tanh',kernel_regularizer=regularizers.l2(penalty),\n",
    "                activity_regularizer=regularizers.l1(penalty))(csv_input)\n",
    "    dense_block = k.layers.Dropout(0.25)(dense_block)\n",
    "    dense_block = k.layers.Flatten()(dense_block)\n",
    "    dense_block = k.layers.Dense(32, activation='tanh', kernel_regularizer=regularizers.l2(penalty),\n",
    "                activity_regularizer=regularizers.l1(penalty))(dense_block)\n",
    "    return dense_block, csv_input"
   ]
  },
  {
   "cell_type": "code",
   "execution_count": 4,
   "metadata": {},
   "outputs": [],
   "source": [
    "if not os.path.exists('../output/clinical'):\n",
    "    os.makedirs('../output/clinical')\n",
    "    \n",
    "if os.getenv('DKUBE_JOB_CLASS',None) == 'notebook':\n",
    "    modeldir = \"../model/\"\n",
    "    if os.path.exists(modeldir):\n",
    "        shutil.rmtree(modeldir)\n",
    "    if not os.path.exists(modeldir):\n",
    "        os.makedirs(modeldir)\n",
    "else:\n",
    "    modeldir = \"/opt/dkube/output/\""
   ]
  },
  {
   "cell_type": "markdown",
   "metadata": {},
   "source": [
    "# 1 - Preprocessing of clinical data"
   ]
  },
  {
   "cell_type": "code",
   "execution_count": 5,
   "metadata": {},
   "outputs": [],
   "source": [
    "coi = ['vital_status', 'bcr_patient_barcode',\n",
    "      'age_at_initial_pathologic_diagnosis','bcr_patient_canonical_status',\n",
    "      'days_to_birth','ethnicity', 'gender',\n",
    "      'histological_type', 'history_of_neoadjuvant_treatment',\n",
    "      'initial_pathologic_diagnosis_method', 'karnofsky_performance_score',\n",
    "      'performance_status_scale_timing', 'person_neoplasm_cancer_status',\n",
    "      'postoperative_rx_tx', 'prior_glioma','tissue_source_site','days_to_death']\n",
    "\n",
    "string_features = ['vital_status', 'ethnicity', 'bcr_patient_canonical_status',\n",
    "                  'gender', 'histological_type', 'history_of_neoadjuvant_treatment',\n",
    "                  'initial_pathologic_diagnosis_method', 'performance_status_scale_timing',\n",
    "                  'person_neoplasm_cancer_status', 'postoperative_rx_tx', 'prior_glioma',\n",
    "                  'tissue_source_site']\n",
    "range_f = ['age_at_initial_pathologic_diagnosis']\n",
    "ctn_r = ['age_at_initial_pathologic_diagnosis', 'days_to_birth', ]\n",
    "ctn_min_max = ['karnofsky_performance_score']\n",
    "filename = \"/opt/dkube/input/clinical/All_CDEs.csv\"\n",
    "outfile = '../output/clinical/cli_data_processed.csv'\n",
    "data = read_file(filename)\n",
    "data = data[coi]\n",
    "data = data.fillna(0)"
   ]
  },
  {
   "cell_type": "markdown",
   "metadata": {},
   "source": [
    "## 1.1 - Raw data visualization"
   ]
  },
  {
   "cell_type": "code",
   "execution_count": 6,
   "metadata": {},
   "outputs": [
    {
     "data": {
      "text/plain": [
       "<seaborn.axisgrid.PairGrid at 0x7f723fc346a0>"
      ]
     },
     "execution_count": 6,
     "metadata": {},
     "output_type": "execute_result"
    },
    {
     "data": {
      "image/png": "[encoded data removed]",
      "text/plain": [
       "<Figure size 1080x360 with 3 Axes>"
      ]
     },
     "metadata": {
      "needs_background": "light"
     },
     "output_type": "display_data"
    }
   ],
   "source": [
    "x_vars = ['age_at_initial_pathologic_diagnosis', 'days_to_birth', 'karnofsky_performance_score']\n",
    "sns.pairplot(data, x_vars=x_vars, y_vars='days_to_death', height=5, aspect=1)"
   ]
  },
  {
   "cell_type": "markdown",
   "metadata": {},
   "source": [
    "## 1.2 - Data Preprocessing and visualization"
   ]
  },
  {
   "cell_type": "code",
   "execution_count": 7,
   "metadata": {},
   "outputs": [],
   "source": [
    "data[string_features] = data[string_features].apply(lambda x: pd.factorize(x)[0] + 1)\n",
    "float_array = data['karnofsky_performance_score'].values.astype(float)\n",
    "float_array = float_array.reshape(float_array.shape[0],1)\n",
    "min_max_scaler = preprocessing.MinMaxScaler()\n",
    "scaled_array = min_max_scaler.fit_transform(float_array)\n",
    "data['karnofsky_performance_score'] = pd.DataFrame(scaled_array)\n",
    "data['age_at_initial_pathologic_diagnosis'] = continious_to_categorical(data['age_at_initial_pathologic_diagnosis'])\n",
    "data['days_to_birth'] = continious_to_categorical(data['days_to_birth'])\n",
    "\n",
    "float_array = data['days_to_death'].values.astype(float)\n",
    "float_array = float_array.reshape(float_array.shape[0],1)\n",
    "min_max_scaler = preprocessing.MinMaxScaler()\n",
    "scaled_array = min_max_scaler.fit_transform(float_array)\n",
    "data['days_to_death'] = pd.DataFrame(scaled_array)\n",
    "data.to_csv(outfile, index = 0)"
   ]
  },
  {
   "cell_type": "code",
   "execution_count": 8,
   "metadata": {},
   "outputs": [
    {
     "data": {
      "text/plain": [
       "<seaborn.axisgrid.PairGrid at 0x7f72348ba3c8>"
      ]
     },
     "execution_count": 8,
     "metadata": {},
     "output_type": "execute_result"
    },
    {
     "data": {
      "image/png": "[encoded data removed]",
      "text/plain": [
       "<Figure size 1080x360 with 3 Axes>"
      ]
     },
     "metadata": {
      "needs_background": "light"
     },
     "output_type": "display_data"
    }
   ],
   "source": [
    "sns.pairplot(data, x_vars=x_vars, y_vars='days_to_death', height=5, aspect=1)"
   ]
  },
  {
   "cell_type": "markdown",
   "metadata": {},
   "source": [
    "# 2 - Splitting data into train, validation and test"
   ]
  },
  {
   "cell_type": "code",
   "execution_count": 9,
   "metadata": {},
   "outputs": [],
   "source": [
    "DATA_DIR = '/opt/dkube/input/'\n",
    "OUT_DIR = '../data_splits/'\n",
    "TRAIN_DATA = OUT_DIR + 'train/'\n",
    "VAL_DATA = OUT_DIR + 'val/'\n",
    "TEST_DATA = OUT_DIR + 'test/'\n",
    "seed = 13\n",
    "ratio = [75,15,10]\n",
    "for filetype in ['CLI', 'RNA']:\n",
    "    if filetype == 'CLI':\n",
    "        filename = '../output/clinical/' + 'cli_data_processed.csv'\n",
    "    else:\n",
    "        filename = DATA_DIR + 'rna/mRNAseq.csv'\n",
    "    raw_data = read_file(filename)\n",
    "    data = read_file(filename)\n",
    "    n_samples = len(data)\n",
    "    s_ratio, case = normalize_ratio(ratio, n_samples)\n",
    "    chunks, seeds = split_csv(data,s_ratio, case, seed)\n",
    "    save_csv_chunks(chunks, filename, [TRAIN_DATA, VAL_DATA, TEST_DATA], filetype)   \n",
    "# Splitting Images\n",
    "imgfolder = DATA_DIR + '/images/imgs/'\n",
    "img_names = os.listdir(imgfolder)\n",
    "n_samples = len(img_names)\n",
    "s_ratio, case = normalize_ratio(ratio, n_samples)\n",
    "chunks = split_imgs(seed, img_names, case)\n",
    "save_imgs(chunks, imgfolder, [TRAIN_DATA, VAL_DATA, TEST_DATA], 'IMG')"
   ]
  },
  {
   "cell_type": "markdown",
   "metadata": {},
   "source": [
    "# 3 - Training "
   ]
  },
  {
   "cell_type": "markdown",
   "metadata": {},
   "source": [
    "## 3.1 - Reading Data "
   ]
  },
  {
   "cell_type": "code",
   "execution_count": 10,
   "metadata": {},
   "outputs": [
    {
     "name": "stdout",
     "output_type": "stream",
     "text": [
      "(447, 28, 28)\n"
     ]
    }
   ],
   "source": [
    "DATA_DIR = '../data_splits/'\n",
    "TRAIN_DATA_CLI = DATA_DIR + 'train/CLI/'\n",
    "TRAIN_DATA_IMG = DATA_DIR + 'train/IMG/'\n",
    "TRAIN_DATA_RNA = DATA_DIR + 'train/RNA/'\n",
    "\n",
    "VAL_DATA_CLI = DATA_DIR + 'val/CLI/'\n",
    "VAL_DATA_IMG = DATA_DIR + 'val/IMG/'\n",
    "VAL_DATA_RNA = DATA_DIR + 'val/RNA/'\n",
    "\n",
    "TEST_DATA_CLI = DATA_DIR + 'test/CLI/'\n",
    "TEST_DATA_IMG = DATA_DIR + 'test/IMG/'\n",
    "TEST_DATA_RNA = DATA_DIR + 'test/RNA/'\n",
    "\n",
    "train_df = pd.read_csv(TRAIN_DATA_CLI + \"cli_data_processed_train.csv\")\n",
    "val_df = pd.read_csv(VAL_DATA_CLI + \"cli_data_processed_val.csv\")\n",
    "test_df = pd.read_csv(TEST_DATA_CLI + \"cli_data_processed_test.csv\")\n",
    "\n",
    "Y_train = train_df['days_to_death']\n",
    "Y_train = np.asarray(Y_train)\n",
    "Y_train = Y_train.reshape(Y_train.shape[0],1)\n",
    "train_imgs = list(train_df['bcr_patient_barcode'])\n",
    "\n",
    "X1_train = train_df.drop(['days_to_death','bcr_patient_barcode'], axis = 1)\n",
    "X1_train = np.asarray(X1_train)\n",
    "X1_train = X1_train.reshape(X1_train.shape[0],X1_train.shape[1],1)\n",
    "\n",
    "\n",
    "Y_val = val_df['days_to_death']\n",
    "Y_val = np.asarray(Y_val)\n",
    "Y_val = Y_val.reshape(Y_val.shape[0],1)\n",
    "\n",
    "X1_val = val_df.drop(['days_to_death','bcr_patient_barcode'], axis = 1)\n",
    "X1_val = np.asarray(X1_val)\n",
    "X1_val = X1_val.reshape(X1_val.shape[0],X1_val.shape[1],1)\n",
    "\n",
    "\n",
    "Y_test = test_df['days_to_death']\n",
    "Y_test = np.asarray(Y_test)\n",
    "Y_test = Y_test.reshape(Y_test.shape[0],1)\n",
    "X1_test = test_df.drop(['days_to_death','bcr_patient_barcode'], axis = 1)\n",
    "X1_test = np.asarray(X1_test)\n",
    "X1_test = X1_test.reshape(X1_test.shape[0],X1_test.shape[1],1)\n",
    "\n",
    "\n",
    "X2_train = []\n",
    "X2_val = []\n",
    "X2_test = []\n",
    "dim = (28,28)\n",
    "train_imgs = tf.io.gfile.listdir(TRAIN_DATA_IMG)\n",
    "for each_img in train_imgs:\n",
    "    ds = pydicom.dcmread(TRAIN_DATA_IMG + each_img)\n",
    "    ds = cv2.resize(ds.pixel_array, dim, interpolation = cv2.INTER_AREA)\n",
    "    X2_train.append(ds)\n",
    "X2_train = np.asarray(X2_train)\n",
    "print(X2_train.shape)\n",
    "X2_train = X2_train.reshape(X2_train.shape[0],X2_train.shape[1],X2_train.shape[2],1)\n",
    "\n",
    "val_imgs = tf.io.gfile.listdir(VAL_DATA_IMG)\n",
    "for each_img in val_imgs:\n",
    "    ds = pydicom.dcmread(VAL_DATA_IMG + each_img)\n",
    "    ds = cv2.resize(ds.pixel_array, dim, interpolation = cv2.INTER_AREA)\n",
    "    X2_val.append(ds)\n",
    "X2_val = np.asarray(X2_val)\n",
    "X2_val = X2_val.reshape(X2_val.shape[0],X2_val.shape[1],X2_val.shape[2],1)\n",
    "\n",
    "test_imgs = tf.io.gfile.listdir(TEST_DATA_IMG)\n",
    "for each_img in test_imgs:\n",
    "    ds = pydicom.dcmread(TEST_DATA_IMG + each_img)\n",
    "    ds = cv2.resize(ds.pixel_array, dim, interpolation = cv2.INTER_AREA)\n",
    "    X2_test.append(ds)\n",
    "X2_test = np.asarray(X2_test)\n",
    "X2_test = X2_test.reshape(X2_test.shape[0],X2_test.shape[1],X2_test.shape[2],1)"
   ]
  },
  {
   "cell_type": "markdown",
   "metadata": {},
   "source": [
    "## 3.2 - Building and training model on different learning rates "
   ]
  },
  {
   "cell_type": "code",
   "execution_count": 11,
   "metadata": {
    "scrolled": true
   },
   "outputs": [
    {
     "name": "stderr",
     "output_type": "stream",
     "text": [
      "WARNING: Logging before flag parsing goes to stderr.\n",
      "W0810 02:32:05.023439 140130563032896 deprecation.py:506] From /usr/local/lib/python3.6/dist-packages/tensorflow/python/ops/init_ops.py:1251: calling VarianceScaling.__init__ (from tensorflow.python.ops.init_ops) with dtype is deprecated and will be removed in a future version.\n",
      "Instructions for updating:\n",
      "Call initializer instance with the dtype argument instead of passing it to the constructor\n"
     ]
    },
    {
     "name": "stdout",
     "output_type": "stream",
     "text": [
      "Train on 447 samples, validate on 89 samples\n"
     ]
    },
    {
     "name": "stderr",
     "output_type": "stream",
     "text": [
      "W0810 02:32:05.643369 140130563032896 deprecation.py:506] From /usr/local/lib/python3.6/dist-packages/tensorflow/python/keras/optimizer_v2/adagrad.py:105: calling Constant.__init__ (from tensorflow.python.ops.init_ops) with dtype is deprecated and will be removed in a future version.\n",
      "Instructions for updating:\n",
      "Call initializer instance with the dtype argument instead of passing it to the constructor\n"
     ]
    },
    {
     "name": "stdout",
     "output_type": "stream",
     "text": [
      "447/447 [==============================] - 1s 1ms/sample - loss: 1376.5217 - val_loss: 7.7679\n",
      "Train on 447 samples, validate on 89 samples\n",
      "447/447 [==============================] - 1s 2ms/sample - loss: 1975.2742 - val_loss: 509.5512\n",
      "Train on 447 samples, validate on 89 samples\n",
      "447/447 [==============================] - 1s 2ms/sample - loss: 1612.7352 - val_loss: 140.6808\n",
      "Train on 447 samples, validate on 89 samples\n",
      "447/447 [==============================] - 1s 2ms/sample - loss: 1332.2240 - val_loss: 21.8727\n"
     ]
    }
   ],
   "source": [
    "lrs =  [0.1, 0.01, 0.02, 0.05]\n",
    "epochs = 1\n",
    "penalty = 0.01\n",
    "img_input_shape = (28,28,1)\n",
    "csv_input_shape = (15,1)\n",
    "metrics = {'train_mae':[],\n",
    "          'val_mae':[],\n",
    "          'test_mae':[]}\n",
    "for lr in lrs:\n",
    "    cnn_block, cnn_input = build_cnn_block(img_input_shape, penalty)\n",
    "    dense_block, csv_input = build_dense_block(csv_input_shape, penalty)\n",
    "    merged = k.layers.Concatenate()([cnn_block,dense_block])\n",
    "    merged = k.layers.Dense(16, activation='tanh')(merged)\n",
    "    merged = k.layers.Dense(8, activation='tanh')(merged)\n",
    "    merged = k.layers.Dense(1, activation='sigmoid')(merged)\n",
    "    model = k.models.Model(inputs=[cnn_input, csv_input], outputs=[merged])\n",
    "\n",
    "    ada_grad = k.optimizers.Adagrad(lr=lr, epsilon=1e-08, decay=0.0)\n",
    "    model.compile(optimizer=ada_grad, loss='mse')\n",
    "    history = model.fit(x=[X2_train,X1_train], y= Y_train, validation_data =([X2_val,X1_val],Y_val), \n",
    "                        epochs=epochs, verbose=1)\n",
    "    train_preds = model.predict([X2_train,X1_train])\n",
    "    val_preds = model.predict([X2_val,X1_val])\n",
    "    test_preds = model.predict([X2_test,X1_test])\n",
    "    metrics['train_mae'].append(mean_absolute_error(Y_train, train_preds))\n",
    "    metrics['val_mae'].append(mean_absolute_error(Y_val, val_preds))\n",
    "    metrics['test_mae'].append(mean_absolute_error(Y_test, test_preds))"
   ]
  },
  {
   "cell_type": "markdown",
   "metadata": {},
   "source": [
    "## 3.3 Saving Model"
   ]
  },
  {
   "cell_type": "code",
   "execution_count": null,
   "metadata": {},
   "outputs": [],
   "source": [
    "version = 1\n",
    "model.save(modeldir + 'weights.h5')\n",
    "tf.keras.backend.set_learning_phase(0)  # Ignore dropout at inference\n",
    "with tf.keras.backend.get_session() as sess:\n",
    "    tf.saved_model.simple_save(\n",
    "        sess,\n",
    "        modeldir + str(version),\n",
    "        inputs={t.name: t for t in model.inputs},\n",
    "        outputs={'output': model.output})\n",
    "print(\"Model saved, version = \", version)"
   ]
  },
  {
   "cell_type": "markdown",
   "metadata": {},
   "source": [
    "## 3.4 - Comparison of models on MAE"
   ]
  },
  {
   "cell_type": "code",
   "execution_count": null,
   "metadata": {},
   "outputs": [],
   "source": [
    "metrics = pd.DataFrame.from_dict(metrics)\n",
    "metrics['Learning rate idx'] = [0,1,2,3]\n",
    "x_vars = ['train_mae', 'val_mae', 'test_mae']\n",
    "sns.pairplot(metrics, x_vars=x_vars, y_vars='Learning rate idx', kind = 'scatter', height=5, aspect=1)"
   ]
  },
  {
   "cell_type": "code",
   "execution_count": null,
   "metadata": {},
   "outputs": [],
   "source": [
    "metrics"
   ]
  },
  {
   "cell_type": "code",
   "execution_count": null,
   "metadata": {},
   "outputs": [],
   "source": []
  }
 ],
 "metadata": {
  "kernelspec": {
   "display_name": "Python 3",
   "language": "python",
   "name": "python3"
  },
  "language_info": {
   "codemirror_mode": {
    "name": "ipython",
    "version": 3
   },
   "file_extension": ".py",
   "mimetype": "text/x-python",
   "name": "python",
   "nbconvert_exporter": "python",
   "pygments_lexer": "ipython3",
   "version": "3.6.8"
  }
 },
 "nbformat": 4,
 "nbformat_minor": 4
}
