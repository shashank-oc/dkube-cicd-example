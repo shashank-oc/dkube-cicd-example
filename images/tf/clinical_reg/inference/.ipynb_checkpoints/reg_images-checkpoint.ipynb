{
 "cells": [
  {
   "cell_type": "code",
   "execution_count": 1,
   "metadata": {},
   "outputs": [],
   "source": [
    "import cv2\n",
    "import pydicom\n",
    "import os, shutil\n",
    "import tensorflow as tf\n",
    "from matplotlib.pyplot import imshow"
   ]
  },
  {
   "cell_type": "code",
   "execution_count": 2,
   "metadata": {},
   "outputs": [],
   "source": [
    "IMG_DIR = '/opt/dkube/input/'\n",
    "OUT_DIR = 'data/images/'"
   ]
  },
  {
   "cell_type": "code",
   "execution_count": 3,
   "metadata": {},
   "outputs": [],
   "source": [
    "raw_imgs_names = tf.io.gfile.listdir(IMG_DIR + 'imgs/')\n",
    "\n",
    "if not os.path.exists(OUT_DIR):\n",
    "    os.makedirs(OUT_DIR)\n",
    "for each_img in raw_imgs_names[100:110]:\n",
    "    fname = os.path.splitext(each_img)[0]\n",
    "    fname = fname.split('/')[-1]\n",
    "    ds = pydicom.dcmread(IMG_DIR + 'imgs/' + each_img)\n",
    "#     resized = cv2.resize(, dim, interpolation = cv2.INTER_AREA)\n",
    "    cv2.imwrite(OUT_DIR + fname + '.png',ds.pixel_array)"
   ]
  },
  {
   "cell_type": "code",
   "execution_count": 4,
   "metadata": {},
   "outputs": [
    {
     "data": {
      "text/plain": [
       "list"
      ]
     },
     "execution_count": 4,
     "metadata": {},
     "output_type": "execute_result"
    }
   ],
   "source": [
    "type(raw_imgs_names)"
   ]
  },
  {
   "cell_type": "code",
   "execution_count": null,
   "metadata": {},
   "outputs": [],
   "source": []
  }
 ],
 "metadata": {
  "kernelspec": {
   "display_name": "Python 3",
   "language": "python",
   "name": "python3"
  },
  "language_info": {
   "codemirror_mode": {
    "name": "ipython",
    "version": 3
   },
   "file_extension": ".py",
   "mimetype": "text/x-python",
   "name": "python",
   "nbconvert_exporter": "python",
   "pygments_lexer": "ipython3",
   "version": "3.6.8"
  }
 },
 "nbformat": 4,
 "nbformat_minor": 4
}
